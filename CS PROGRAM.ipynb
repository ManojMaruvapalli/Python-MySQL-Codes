{
 "cells": [
  {
   "cell_type": "code",
   "execution_count": 18,
   "metadata": {},
   "outputs": [
    {
     "name": "stdout",
     "output_type": "stream",
     "text": [
      "Enter a number:59\n",
      "Number 59 is a prime number.\n"
     ]
    }
   ],
   "source": [
    "# Program to check weather a number is prime or not.\n",
    "x=int(input(\"Enter a number:\"))\n",
    "y=int(x/2)+1\n",
    "for i in range (2,y):\n",
    "    rem=x%i\n",
    "    if rem==0:\n",
    "        print(\"Number\",x,\"is not a prime number.\")\n",
    "        break\n",
    "else:\n",
    "    print(\"Number\",x,\"is a prime number.\")"
   ]
  },
  {
   "cell_type": "code",
   "execution_count": 5,
   "metadata": {},
   "outputs": [
    {
     "name": "stdout",
     "output_type": "stream",
     "text": [
      "Enter a number:123454321\n",
      "123454321 is a palindrome\n"
     ]
    }
   ],
   "source": [
    "# Program to check a number is palindrome or not.\n",
    "def cekpal(n):\n",
    "    num=n\n",
    "    d=0\n",
    "    rev=0\n",
    "    while n>0:\n",
    "        d=n%10\n",
    "        n=int(n/10)\n",
    "        rev=int(rev*10+d)\n",
    "    if(num==rev):\n",
    "        return True\n",
    "    else:\n",
    "        return False\n",
    "#__main__\n",
    "n=int(input(\"Enter a number:\"))\n",
    "if cekpal(n):\n",
    "    print(n,\"is a palindrome\")\n",
    "else:\n",
    "    print(n,\"is a not palindrome\")"
   ]
  },
  {
   "cell_type": "code",
   "execution_count": 18,
   "metadata": {},
   "outputs": [
    {
     "name": "stdout",
     "output_type": "stream",
     "text": [
      "Enter the principal amount:6250\n",
      "Enter the rate of intrest:8\n",
      "Enter the number of years:2\n",
      "The amount after 2.0 years is 7290.000000000001 rupees.\n"
     ]
    }
   ],
   "source": [
    "# Program to calculate compound intrest. \n",
    "def compint(p,r,n):\n",
    "    m=n\n",
    "    x=p*(1+r/100)**(n)\n",
    "    return x\n",
    "p=float(input(\"Enter the principal amount:\"))\n",
    "r=float(input(\"Enter the rate of intrest:\"))\n",
    "n=float(input(\"Enter the number of years:\"))\n",
    "x=compint(p,r,n)\n",
    "print(\"The amount after\",n,\"years is\",x,\"rupees.\")"
   ]
  },
  {
   "cell_type": "code",
   "execution_count": 26,
   "metadata": {},
   "outputs": [
    {
     "name": "stdout",
     "output_type": "stream",
     "text": [
      "Enter '1' for converting string in ascii code\n",
      "Enter '2' for converting ascii code in string\n",
      "Enter your choice:2\n",
      "Enter your ASCII value:[11,22,33,44,55,66,77,8,8,8,9,9,0,128]\n",
      "['\\x0b', '\\x16', '!', ',', '7', 'B', 'M', '\\x08', '\\x08', '\\x08', '\\t', '\\t', '\\x00', '\\x80']\n"
     ]
    }
   ],
   "source": [
    "# Program to display ASCII code of a character and vice versa.\n",
    "def asc(a):\n",
    "    print([ord(c) for c in a])\n",
    "    def asc_val(a):\n",
    "    char=[chr(ascii) for ascii in a]\n",
    "    ''.join(char)\n",
    "    print(char)\n",
    "#__main__\n",
    "print(\"Enter '1' for converting string in ascii code\")\n",
    "print(\"Enter '2' for converting ascii code in string\")\n",
    "x=int(input(\"Enter your choice:\"))\n",
    "if x==1:\n",
    "    n=input(\"Enter your character:\")\n",
    "    asc(n)\n",
    "elif x==2:\n",
    "    n=eval(input(\"Enter your ASCII value:\"))\n",
    "    asc_val(n)\n",
    "else:\n",
    "    print(\"You have entered a in valid choice\")       "
   ]
  },
  {
   "cell_type": "code",
   "execution_count": 41,
   "metadata": {},
   "outputs": [
    {
     "name": "stdout",
     "output_type": "stream",
     "text": [
      "Please Enter Your Own Character : 55\n",
      "The Given Character  55 is a Digit\n"
     ]
    }
   ],
   "source": [
    "# Program to input a character and print weather a given character is an alphabet, digit or any other character.\n",
    "ch = input(\"Please Enter Your Own Character : \")\n",
    "if((ch >= 'a' and ch <= 'z') or (ch >= 'A' and ch <= 'Z')): \n",
    "    print(\"The Given Character \", ch, \"is an Alphabet\") \n",
    "elif(ch >= '0' and ch <= '9'):\n",
    "    print(\"The Given Character \", ch, \"is a Digit\")\n",
    "else:\n",
    "    print(\"The Given Character \", ch, \"is Not an Alphabet or a Digit\")"
   ]
  },
  {
   "cell_type": "code",
   "execution_count": 42,
   "metadata": {},
   "outputs": [
    {
     "name": "stdout",
     "output_type": "stream",
     "text": [
      "Enter a number: 5\n",
      "The factorial of 5 is 120\n"
     ]
    }
   ],
   "source": [
    "# Program to calculate the factorial of an integer using recursion.\n",
    "def factorial(n):  \n",
    "   if n == 1:  \n",
    "       return n  \n",
    "   else:  \n",
    "       return n*factorial(n-1)  \n",
    "num = int(input(\"Enter a number: \"))  \n",
    "if num < 0:  \n",
    "   print(\"Sorry, factorial does not exist for negative numbers\")  \n",
    "elif num == 0:  \n",
    "   print(\"The factorial of 0 is 1\")  \n",
    "else:  \n",
    "   print(\"The factorial of\",num,\"is\",factorial(num))  "
   ]
  },
  {
   "cell_type": "code",
   "execution_count": 24,
   "metadata": {},
   "outputs": [
    {
     "name": "stdout",
     "output_type": "stream",
     "text": [
      "Enter the last term required:8\n",
      "0,1,1,2,3,5,8,13,...\n"
     ]
    }
   ],
   "source": [
    "# Program to print fibonacci series using recursion.\n",
    "def fib(n):\n",
    "    if n==1:\n",
    "        return 0\n",
    "    elif n==2:\n",
    "        return 1\n",
    "    else: \n",
    "        return fib(n-1)+fib(n-2)\n",
    "#__main__\n",
    "n=int(input(\"Enter the last term required:\"))\n",
    "for i in range(1,n+1):\n",
    "    print(fib(i),end=',')\n",
    "print (\"...\")\n",
    "   "
   ]
  },
  {
   "cell_type": "code",
   "execution_count": 31,
   "metadata": {},
   "outputs": [
    {
     "name": "stdout",
     "output_type": "stream",
     "text": [
      "Enter a list of integers:[12,15,21,25,28,32,33,36,43,45]\n",
      "Enter search item:32\n",
      "32 found at index 5 .\n"
     ]
    }
   ],
   "source": [
    "# Program for binary search.\n",
    "def binarysearch(ar,key):\n",
    "    low=0\n",
    "    high=len(ar)-1\n",
    "    while low<=high:\n",
    "        mid=int((low+high)/2)\n",
    "        if key==ar[mid]:\n",
    "            return mid\n",
    "        elif key<ar[mid]:\n",
    "            high=mid-1\n",
    "        else:\n",
    "            low=mid+1\n",
    "    else:\n",
    "        return-999\n",
    "#__main__\n",
    "ar=eval(input(\"Enter a list of integers:\" ))\n",
    "item=int(input(\"Enter search item:\"))\n",
    "res=binarysearch(ar,item)\n",
    "if res>=0:\n",
    "    print(item,\"found at index\",res,\".\")\n",
    "else:\n",
    "    print(\"Sorry\",item,\"not found in array.\")"
   ]
  },
  {
   "cell_type": "code",
   "execution_count": 44,
   "metadata": {
    "scrolled": true
   },
   "outputs": [
    {
     "name": "stdout",
     "output_type": "stream",
     "text": [
      "Enter string:mam\n",
      "String is a palindrome\n"
     ]
    }
   ],
   "source": [
    "#Program to find weather a string is palindrome or not using recursion.\n",
    "def par(s):\n",
    "    if len(s) < 1:\n",
    "        return True\n",
    "    else:\n",
    "        if s[0] == s[-1]:\n",
    "            return par(s[1:-1])\n",
    "        else:\n",
    "            return False\n",
    "a=str(input(\"Enter string:\"))\n",
    "if (par(a)==True):\n",
    "    print(\"String is a palindrome\")\n",
    "else:\n",
    "    print(\"String isn't a palindrome\")"
   ]
  },
  {
   "cell_type": "code",
   "execution_count": 50,
   "metadata": {},
   "outputs": [
    {
     "name": "stdout",
     "output_type": "stream",
     "text": [
      "The number of vowels in the text file : 1635\n"
     ]
    }
   ],
   "source": [
    "#Program to count the noumber of vowels present in a text file.\n",
    "file1=open(\"D:\\\\mytext.txt\",\"r\")\n",
    "str1=file1.read()\n",
    "vowel_count=0\n",
    "for i in str1:\n",
    "    if(i=='A' or i=='a' or i=='E' or i=='e' or i=='I' or i=='i'or i=='O' or i=='o' or i=='U'or i=='u'):\n",
    "        vowel_count+=1\n",
    "print(\"The number of vowels in the text file :\",vowel_count)\n",
    "file1.close()"
   ]
  },
  {
   "cell_type": "code",
   "execution_count": 25,
   "metadata": {
    "scrolled": true
   },
   "outputs": [
    {
     "name": "stdout",
     "output_type": "stream",
     "text": [
      "\n"
     ]
    }
   ],
   "source": [
    "#Program to write those lines which have the character 'p' from one text  file to another text file."
   ]
  },
  {
   "cell_type": "code",
   "execution_count": 27,
   "metadata": {},
   "outputs": [],
   "source": [
    "#Program to count number of words in a file.\n"
   ]
  },
  {
   "cell_type": "code",
   "execution_count": 24,
   "metadata": {},
   "outputs": [
    {
     "name": "stdout",
     "output_type": "stream",
     "text": [
      "Enter the angle:45\n",
      "0.7047230747708333\n"
     ]
    }
   ],
   "source": [
    "#Program to calculate the value of sin(x) using its Taylor series expansion upto n terms.\n",
    "import math\n",
    "def cal_sin(n):\n",
    "    accuracy=0.0001\n",
    "    n=n*(3.142/180.0)\n",
    "    x=n\n",
    "    sinx=n\n",
    "    sinval=math.sin(n)\n",
    "    i=1\n",
    "    while (True):\n",
    "        denominator=2*i*(2*i+1)\n",
    "        x=-x*n*n/denominator\n",
    "        sinx=sinx+x\n",
    "        i=i+1\n",
    "        if(accuracy<= abs(sinval-sinx)):\n",
    "            break\n",
    "    print(sinx)\n",
    "n=int(input(\"Enter the angle:\"))\n",
    "cal_sin(n)"
   ]
  },
  {
   "cell_type": "code",
   "execution_count": 57,
   "metadata": {},
   "outputs": [
    {
     "name": "stdout",
     "output_type": "stream",
     "text": [
      "Enter a number :5\n",
      "The lottery number is 5\n",
      "You WON!!!!\n"
     ]
    }
   ],
   "source": [
    "#Program to generate random numbers between 1 to 6 and check weather the user has won a lottery or not.\n",
    "import random\n",
    "x=int(input(\"Enter a number :\"))\n",
    "a=int(random.randint(0,6))\n",
    "print(\"The lottery number is\",a)\n",
    "if(x==a):\n",
    "    print (\"You WON!!!!\")\n",
    "else:\n",
    "    print(\"YOU LOSE\")"
   ]
  },
  {
   "cell_type": "code",
   "execution_count": 6,
   "metadata": {},
   "outputs": [],
   "source": [
    "#Program to create a library in python and import it in a program. "
   ]
  },
  {
   "cell_type": "code",
   "execution_count": 5,
   "metadata": {},
   "outputs": [
    {
     "data": {
      "image/png": "[encoded data removed]",
      "text/plain": [
       "<Figure size 432x288 with 1 Axes>"
      ]
     },
     "metadata": {
      "needs_background": "light"
     },
     "output_type": "display_data"
    }
   ],
   "source": [
    "#Program to plot a bar chart on to display the result of a school for five consecutive years.\n",
    "import matplotlib.pyplot as plt\n",
    "import numpy as np\n",
    "objects = ('DPS', 'SPS', 'ZPS', 'PPS', 'SPS', 'LPS')\n",
    "y = np.arange(len(objects))\n",
    "performance = [10,8,6,5,6,10]\n",
    "plt.bar(y, performance, align='center', alpha=0.5)\n",
    "plt.xticks(y, objects)\n",
    "plt.ylabel('Usage')\n",
    "plt.title('Programming language usage')\n",
    "plt.show()"
   ]
  },
  {
   "cell_type": "code",
   "execution_count": 6,
   "metadata": {},
   "outputs": [
    {
     "data": {
      "image/png": "[encoded data removed]",
      "text/plain": [
       "<Figure size 432x288 with 1 Axes>"
      ]
     },
     "metadata": {
      "needs_background": "light"
     },
     "output_type": "display_data"
    }
   ],
   "source": [
    "#Program to plot a graph for the function y=x^2.\n",
    "import matplotlib.pyplot as plt\n",
    "import numpy as np\n",
    "x = np.arange( -10 , 10 )\n",
    "y = np.square( x )\n",
    "plt.plot( x , y )\n",
    "plt.show()"
   ]
  },
  {
   "cell_type": "code",
   "execution_count": 7,
   "metadata": {},
   "outputs": [
    {
     "data": {
      "image/png": "[encoded data removed]",
      "text/plain": [
       "<Figure size 432x288 with 1 Axes>"
      ]
     },
     "metadata": {},
     "output_type": "display_data"
    }
   ],
   "source": [
    "#Program to plot a pie chart on consumption of water in daily life.\n",
    "import matplotlib.pyplot as plt\n",
    "labels = ['India', 'Canada', 'Japan', 'Australia', 'Russia']\n",
    "sizes = [31, 19, 15, 14, 21]  # Add upto 100%\n",
    "plt.pie(sizes, labels=labels, autopct='%1.1f%%', startangle=90)\n",
    "plt.axis('equal')\n",
    "plt.show()"
   ]
  },
  {
   "cell_type": "code",
   "execution_count": 16,
   "metadata": {},
   "outputs": [
    {
     "name": "stdout",
     "output_type": "stream",
     "text": [
      "enter the list of numbers:[15,6,13,22,3,52,2]\n",
      "The numbd=er to search for:22\n",
      "22 was found in the list\n"
     ]
    }
   ],
   "source": [
    "#Program for linear search.\n",
    "def linear_search(alist,key):\n",
    "    for i in range (len(alist)):\n",
    "        if alist==key:\n",
    "            return True\n",
    "    return False\n",
    "alist=eval(input(\"enter the list of numbers:\"))\n",
    "key=str(input(\"The numbd=er to search for:\"))\n",
    "index=linear_search(alist,key)\n",
    "if index<0:\n",
    "    print(key,\"was not found in the list\")\n",
    "else:\n",
    "    print(key,\"was found in the list\")"
   ]
  },
  {
   "cell_type": "code",
   "execution_count": 10,
   "metadata": {},
   "outputs": [
    {
     "name": "stdout",
     "output_type": "stream",
     "text": [
      "Enter Your List:[15,6,13,22,3,52,2]\n",
      "Orginal list is: [15, 6, 13, 22, 3, 52, 2]\n",
      "List after sorting: [2, 3, 6, 13, 15, 22, 52]\n"
     ]
    }
   ],
   "source": [
    "#Program for bubble sort search.\n",
    "aList=eval(input(\"Enter Your List:\"))\n",
    "print(\"Orginal list is:\",aList)\n",
    "n=len(aList)\n",
    "for i in range(n):\n",
    "    for j in range (0,n-i-1):\n",
    "        if aList[j]>aList[j+1]:\n",
    "            aList[j],aList[j+1]=aList[j+1],aList[j]\n",
    "print(\"List after sorting:\",aList)\n"
   ]
  },
  {
   "cell_type": "code",
   "execution_count": null,
   "metadata": {},
   "outputs": [],
   "source": []
  }
 ],
 "metadata": {
  "kernelspec": {
   "display_name": "Python 3",
   "language": "python",
   "name": "python3"
  },
  "language_info": {
   "codemirror_mode": {
    "name": "ipython",
    "version": 3
   },
   "file_extension": ".py",
   "mimetype": "text/x-python",
   "name": "python",
   "nbconvert_exporter": "python",
   "pygments_lexer": "ipython3",
   "version": "3.7.4"
  }
 },
 "nbformat": 4,
 "nbformat_minor": 2
}
